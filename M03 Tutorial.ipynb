{
 "cells": [
  {
   "cell_type": "code",
   "execution_count": 2,
   "id": "c12acf15",
   "metadata": {},
   "outputs": [],
   "source": [
    "class Solution:\t\n",
    "    def binarysearch(self, arr, N, K):\n",
    "        left, right = 0, N - 1\n",
    "    \n",
    "        while left <= right:\n",
    "            mid = (left + right) // 2\n",
    "    \n",
    "            if arr[mid] == K:\n",
    "                return mid\n",
    "            elif arr[mid] < K:\n",
    "                left = mid + 1\n",
    "            else:\n",
    "                right = mid - 1\n",
    "    \n",
    "        return -1"
   ]
  },
  {
   "cell_type": "code",
   "execution_count": 3,
   "id": "eecca5ef",
   "metadata": {},
   "outputs": [],
   "source": [
    "class Solution:\n",
    "    def sort012(self,arr,n):\n",
    "        # code here\n",
    "        arr.sort()"
   ]
  },
  {
   "cell_type": "code",
   "execution_count": null,
   "id": "2b896ad5",
   "metadata": {},
   "outputs": [],
   "source": []
  }
 ],
 "metadata": {
  "kernelspec": {
   "display_name": "Python 3 (ipykernel)",
   "language": "python",
   "name": "python3"
  },
  "language_info": {
   "codemirror_mode": {
    "name": "ipython",
    "version": 3
   },
   "file_extension": ".py",
   "mimetype": "text/x-python",
   "name": "python",
   "nbconvert_exporter": "python",
   "pygments_lexer": "ipython3",
   "version": "3.11.5"
  }
 },
 "nbformat": 4,
 "nbformat_minor": 5
}
